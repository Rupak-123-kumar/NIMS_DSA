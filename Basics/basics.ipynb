{
 "cells": [
  {
   "cell_type": "markdown",
   "id": "5f6d23de",
   "metadata": {},
   "source": [
    "IDE's & Editors \n",
    "    1. ByteXL Editor\n",
    "    2. Google Colab\n",
    "    3. GitHub Codespaces\n",
    "    4. Anaconda And VS Code IDE Installation\n",
    "\n",
    "Basics of Python\n",
    "\n",
    "- Single Line and Multiline Comments\n",
    "- Difference between Syntax & Semantics\n",
    "- Basics Syntax Rules in Python\n",
    "- Understand Semantics in Python\n",
    "- Common Syntax Errors & How to avoid them\n",
    "- Practicals Code Examples\n",
    "\n",
    "In programming, syntax refers to the rules and structure you must follow when writing code in a specific programming language. Just like grammar rules in English, programming syntax ensures your code can be read and understood by the compiler or interpreter.\n",
    "\n",
    "Semantics refers to the meaning or the interpretation of the symbols, characters, and commands in a language. It is about what the code is supposed to do when it runs."
   ]
  },
  {
   "cell_type": "code",
   "execution_count": 15,
   "id": "3df8d0ec",
   "metadata": {},
   "outputs": [
    {
     "name": "stdout",
     "output_type": "stream",
     "text": [
      "Bhavesh\n",
      "Mali\n"
     ]
    }
   ],
   "source": [
    "### Basics Syntax Rules in Python or Single Line Comments\n",
    "# Case Sensitivity\n",
    "\n",
    "name = \"Bhavesh\"\n",
    "Name = \"Mali\"\n",
    "\n",
    "print(name)\n",
    "print(Name)"
   ]
  },
  {
   "cell_type": "markdown",
   "id": "0753e29b",
   "metadata": {},
   "source": [
    "### Indentation\n",
    "Indentation in Python is used to define the structure and hierarchy of the code. Unlike many other programming languages that use braces {} to delimit blocks of code, Python uses indentation to determine the grouping of statements. This means that all the statements within a block must be indented at the same level."
   ]
  },
  {
   "cell_type": "code",
   "execution_count": 16,
   "id": "47c97da4",
   "metadata": {},
   "outputs": [
    {
     "name": "stdout",
     "output_type": "stream",
     "text": [
      "You are young\n",
      "This is outside the if-else block\n"
     ]
    }
   ],
   "source": [
    "# Indentation\n",
    "# Python uses indentation to define blocks of code. Consistent use of spaces (commonly 4) or a tab is required.\n",
    "\n",
    "age = 20\n",
    "if age > 80:\n",
    "    print(\"You are old\")\n",
    "else:\n",
    "    print(\"You are young\")\n",
    "print(\"This is outside the if-else block\")"
   ]
  },
  {
   "cell_type": "code",
   "execution_count": null,
   "id": "dc0ec824",
   "metadata": {},
   "outputs": [],
   "source": [
    "# Line Continuation\n",
    "# Use a backslash (\\) to continue a statement to the next line\n",
    "\n",
    "total_cost = 1+2+3+4+5+6+7+8+9+10 + \\\n",
    "    11+12+13+14+15+16+17+18+19+20\n",
    "print(total_cost)"
   ]
  },
  {
   "cell_type": "code",
   "execution_count": null,
   "id": "42900094",
   "metadata": {},
   "outputs": [],
   "source": [
    "# Multiple Statements on a single line\n",
    "x=5;y=10;z=x+y\n",
    "print(z)"
   ]
  },
  {
   "cell_type": "code",
   "execution_count": 17,
   "id": "3560d535",
   "metadata": {},
   "outputs": [
    {
     "data": {
      "text/plain": [
       "str"
      ]
     },
     "execution_count": 17,
     "metadata": {},
     "output_type": "execute_result"
    }
   ],
   "source": [
    "# Understand  Semnatics In Python\n",
    "# variable assignment\n",
    "age= 20 # age is an integer\n",
    "name=\"Bhavesh\" # name is a string\n",
    "\n",
    "type(age)\n",
    "type(name)"
   ]
  },
  {
   "cell_type": "code",
   "execution_count": 18,
   "id": "fd2941be",
   "metadata": {},
   "outputs": [
    {
     "name": "stdout",
     "output_type": "stream",
     "text": [
      "<class 'int'>\n",
      "<class 'str'>\n"
     ]
    }
   ],
   "source": [
    "# Type Inference\n",
    "variable=10\n",
    "print(type(variable))\n",
    "variable=\"Bhavesh\"\n",
    "print(type(variable))"
   ]
  },
  {
   "cell_type": "code",
   "execution_count": 19,
   "id": "0e9e5f9c",
   "metadata": {},
   "outputs": [
    {
     "ename": "IndentationError",
     "evalue": "expected an indented block after 'if' statement on line 3 (4289047777.py, line 4)",
     "output_type": "error",
     "traceback": [
      "\u001b[0;36m  Cell \u001b[0;32mIn[19], line 4\u001b[0;36m\u001b[0m\n\u001b[0;31m    print(age)\u001b[0m\n\u001b[0m    ^\u001b[0m\n\u001b[0;31mIndentationError\u001b[0m\u001b[0;31m:\u001b[0m expected an indented block after 'if' statement on line 3\n"
     ]
    }
   ],
   "source": [
    "# Indentation Error\n",
    "age=32\n",
    "if age>30:\n",
    "print(age)"
   ]
  },
  {
   "cell_type": "code",
   "execution_count": 20,
   "id": "732ab018",
   "metadata": {},
   "outputs": [
    {
     "ename": "NameError",
     "evalue": "name 'b' is not defined",
     "output_type": "error",
     "traceback": [
      "\u001b[0;31m---------------------------------------------------------------------------\u001b[0m",
      "\u001b[0;31mNameError\u001b[0m                                 Traceback (most recent call last)",
      "Cell \u001b[0;32mIn[20], line 2\u001b[0m\n\u001b[1;32m      1\u001b[0m \u001b[38;5;66;03m# Syntax Error or Name Error\u001b[39;00m\n\u001b[0;32m----> 2\u001b[0m a\u001b[38;5;241m=\u001b[39mb\n",
      "\u001b[0;31mNameError\u001b[0m: name 'b' is not defined"
     ]
    }
   ],
   "source": [
    "# Syntax Error or Name Error\n",
    "a=b"
   ]
  },
  {
   "cell_type": "code",
   "execution_count": 21,
   "id": "5b34e976",
   "metadata": {},
   "outputs": [
    {
     "name": "stdout",
     "output_type": "stream",
     "text": [
      "Correct Indentation\n",
      "This will print\n",
      "Outside the if block\n"
     ]
    }
   ],
   "source": [
    "# Code exmaples of indentation\n",
    "if True:\n",
    "    print(\"Correct Indentation\")\n",
    "    if False:\n",
    "        print(\"This one print\")\n",
    "    print(\"This will print\")\n",
    "print(\"Outside the if block\")"
   ]
  },
  {
   "cell_type": "code",
   "execution_count": null,
   "id": "4c1ae585",
   "metadata": {},
   "outputs": [],
   "source": [
    "#Even and Odd\n",
    "\n",
    "def even_odd(n):\n",
    "    if n%2 == 0:\n",
    "       print(\"Number is even\")\n",
    "    else:\n",
    "        print(\"Number is odd\")\n",
    "print(even_odd(4))\n"
   ]
  },
  {
   "cell_type": "code",
   "execution_count": null,
   "id": "fb61d29f",
   "metadata": {},
   "outputs": [],
   "source": [
    "# Sum of Natural Number\n",
    "\n",
    "def sum_of_natural_number(n):\n",
    "    sum = 0\n",
    "    for i in range(1,n):\n",
    "        sum += i\n",
    "    return sum\n",
    "print(sum_of_natural_number(3))"
   ]
  },
  {
   "cell_type": "code",
   "execution_count": null,
   "id": "d4744461",
   "metadata": {},
   "outputs": [],
   "source": [
    "#Multiplication Table\n",
    "\n",
    "def table(n):\n",
    "    for i in range(1,10):\n",
    "        print(n*i)\n",
    "print(table(5))"
   ]
  },
  {
   "cell_type": "code",
   "execution_count": null,
   "id": "c02f3181",
   "metadata": {},
   "outputs": [],
   "source": [
    "# Reverse a Digits\n",
    "\n",
    "def reverse_digits(n):\n",
    "    rev=0\n",
    "    while(n>0):\n",
    "        last_digit = n % 10\n",
    "        rev = rev * 10 + last_digit\n",
    "        n = n // 10\n",
    "    return rev\n",
    "print(reverse_digits(12345))\n"
   ]
  },
  {
   "cell_type": "code",
   "execution_count": null,
   "id": "79d0fca3",
   "metadata": {},
   "outputs": [],
   "source": [
    "# Factorial Number\n",
    "\n",
    "def fact(n):\n",
    "    mul = 1\n",
    "    for i in range(1,n+1):\n",
    "        mul *= i\n",
    "    return mul\n",
    "print(fact(5))\n"
   ]
  }
 ],
 "metadata": {
  "kernelspec": {
   "display_name": "base",
   "language": "python",
   "name": "python3"
  },
  "language_info": {
   "codemirror_mode": {
    "name": "ipython",
    "version": 3
   },
   "file_extension": ".py",
   "mimetype": "text/x-python",
   "name": "python",
   "nbconvert_exporter": "python",
   "pygments_lexer": "ipython3",
   "version": "3.12.4"
  }
 },
 "nbformat": 4,
 "nbformat_minor": 5
}
