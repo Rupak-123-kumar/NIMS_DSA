{
 "cells": [
  {
   "cell_type": "markdown",
   "id": "e5ea3116",
   "metadata": {},
   "source": [
    "##### File Operation- Read And Write Files\n",
    "\n",
    "File handling is a crucial part of any programming language. Python provides built-in functions and methods to read from and write to files, both text and binary."
   ]
  },
  {
   "cell_type": "code",
   "execution_count": 35,
   "id": "f7c7ccc7",
   "metadata": {},
   "outputs": [
    {
     "name": "stdout",
     "output_type": "stream",
     "text": [
      "Hello Secton A\n",
      "this is our class room here at marik\n",
      "I welcome you all!\n",
      "First Line \n",
      "Secone Line \n",
      "Third Line\n",
      "\n"
     ]
    }
   ],
   "source": [
    "with open('example.txt', 'r') as file:\n",
    "    # content = file.read()\n",
    "    # print(content)\n",
    "    print(file.read())\n",
    "    # content = file.read()\n",
    "    # print(content)"
   ]
  },
  {
   "cell_type": "code",
   "execution_count": 37,
   "id": "fd73554b",
   "metadata": {},
   "outputs": [
    {
     "name": "stdout",
     "output_type": "stream",
     "text": [
      "Hello Secton A\n",
      "this is our class room here at marik\n",
      "I welcome you all!\n",
      "First Line\n",
      "Secone Line\n",
      "Third Line\n"
     ]
    }
   ],
   "source": [
    "# Read a file line by line\n",
    "with open('example.txt', 'r') as file:\n",
    "    for line in file:\n",
    "        # print(line)\n",
    "        print(line.strip()) # strip() removes the newline character"
   ]
  },
  {
   "cell_type": "code",
   "execution_count": 38,
   "id": "a02dcddc",
   "metadata": {},
   "outputs": [],
   "source": [
    "# Write a file(Overwriting)\n",
    "with open('example.txt', 'w') as file:\n",
    "    file.write('Hello Secton A\\n')\n",
    "    file.write('this is our class room here at marik\\n')\n",
    "    file.write('Hello, Aryan - How are you?')"
   ]
  },
  {
   "cell_type": "code",
   "execution_count": 39,
   "id": "42b41df5",
   "metadata": {},
   "outputs": [],
   "source": [
    "# Write a file(without overwriting)\n",
    "with open('example.txt', 'a') as file:\n",
    "    file.write(\"I welcome you all!\\n\")"
   ]
  },
  {
   "cell_type": "code",
   "execution_count": 40,
   "id": "c4c40889",
   "metadata": {},
   "outputs": [],
   "source": [
    "# Writing a list of lines to a file\n",
    "lines = ['First Line \\n', 'Secone Line \\n', 'Third Line\\n']\n",
    "with open('example.txt','a') as file:\n",
    "    file.writelines(lines)"
   ]
  },
  {
   "cell_type": "code",
   "execution_count": 41,
   "id": "d9950c04",
   "metadata": {},
   "outputs": [],
   "source": [
    "# Binary Files\n",
    "data = b'\\x00\\x01\\x02\\x03\\x04'\n",
    "with open('example.bin', 'wb') as file:\n",
    "    file.write(data)"
   ]
  },
  {
   "cell_type": "code",
   "execution_count": 42,
   "id": "126f3813",
   "metadata": {},
   "outputs": [
    {
     "name": "stdout",
     "output_type": "stream",
     "text": [
      "b'\\x00\\x01\\x02\\x03\\x04'\n"
     ]
    }
   ],
   "source": [
    "# Reading a binary file\n",
    "with open('example.bin', 'rb') as file:\n",
    "    content = file.read()\n",
    "    print(content)"
   ]
  },
  {
   "cell_type": "code",
   "execution_count": 43,
   "id": "11cd0bde",
   "metadata": {},
   "outputs": [],
   "source": [
    "# Read the content from source text file and write to a destination text file\n",
    "\n",
    "with open('example.txt', 'r') as source_file:\n",
    "    content = source_file.read()\n",
    "\n",
    "with open('destination.txt','w') as destination_file:\n",
    "    destination_file.write(content)"
   ]
  },
  {
   "cell_type": "code",
   "execution_count": 44,
   "id": "0f452f04",
   "metadata": {},
   "outputs": [
    {
     "name": "stdout",
     "output_type": "stream",
     "text": [
      "Lines: 6, Words: 26, Characters: 134\n"
     ]
    }
   ],
   "source": [
    "# Read a text file and count the number of lines, words, and characters.\n",
    "# Counting lines, words, and characters in a text file\n",
    "\n",
    "def count_text_file(file_path):\n",
    "    with open(file_path, 'r') as file:\n",
    "        lines = file.readlines()\n",
    "        line_count = len(lines)\n",
    "        word_count = sum(len(line.split()) for line in lines)\n",
    "        char_count = sum(len(line) for line in lines)\n",
    "    return line_count, word_count, char_count\n",
    "\n",
    "file_path = 'example.txt'\n",
    "lines, words, characters = count_text_file(file_path)\n",
    "print(f'Lines: {lines}, Words: {words}, Characters: {characters }')"
   ]
  },
  {
   "cell_type": "markdown",
   "id": "5bbf9d84",
   "metadata": {},
   "source": [
    "The w+ mode in Python is used to open a file for both reading and writing. If the file does not exist, it will be created. If the file exists, its content is truncated (i.e., the file is overwritten)."
   ]
  },
  {
   "cell_type": "code",
   "execution_count": 46,
   "id": "a1456d66",
   "metadata": {},
   "outputs": [
    {
     "name": "stdout",
     "output_type": "stream",
     "text": [
      "Hello Secton A\n",
      "this is our class room here at marik\n",
      "Hello, Sakasham\n",
      "Hello, Rinki\n",
      "\n"
     ]
    }
   ],
   "source": [
    "# Writing and reading a file\n",
    "\n",
    "with open('exmaple.txt','w+') as file:\n",
    "    file.write(\"Hello Secton A\\n\")\n",
    "    file.write(\"this is our class room here at marik\\n\")\n",
    "    file.write('Hello, Sakasham\\n')\n",
    "    file.write('Hello, Rinki\\n')\n",
    "\n",
    "# move the file cursor to the begining\n",
    "    file.seek(0)\n",
    "\n",
    "    content = file.read()\n",
    "    print(content)\n"
   ]
  },
  {
   "cell_type": "code",
   "execution_count": null,
   "id": "c30911d0",
   "metadata": {},
   "outputs": [],
   "source": []
  }
 ],
 "metadata": {
  "kernelspec": {
   "display_name": "base",
   "language": "python",
   "name": "python3"
  },
  "language_info": {
   "codemirror_mode": {
    "name": "ipython",
    "version": 3
   },
   "file_extension": ".py",
   "mimetype": "text/x-python",
   "name": "python",
   "nbconvert_exporter": "python",
   "pygments_lexer": "ipython3",
   "version": "3.12.4"
  }
 },
 "nbformat": 4,
 "nbformat_minor": 5
}
