{
 "cells": [
  {
   "cell_type": "markdown",
   "id": "9551fa15",
   "metadata": {},
   "source": [
    "##### Working With File Paths\n",
    "When working with files in Python, handling file paths correctly is crucial to ensure your code works across different operating systems and environments. Python provides several modules and functions for working with file paths effectively."
   ]
  },
  {
   "cell_type": "code",
   "execution_count": null,
   "id": "387ab0a2",
   "metadata": {},
   "outputs": [
    {
     "name": "stdout",
     "output_type": "stream",
     "text": [
      "Current working directory is: /Users/bhaveshmali/Desktop/NIMS-Python/Files Handling\n"
     ]
    }
   ],
   "source": [
    "# Using the os module\n",
    "import os\n",
    "cwd = os.getcwd()\n",
    "print(f'Current working directory is: {cwd}') "
   ]
  },
  {
   "cell_type": "code",
   "execution_count": 2,
   "id": "c8c841b9",
   "metadata": {},
   "outputs": [
    {
     "name": "stdout",
     "output_type": "stream",
     "text": [
      "Directory 'package1' created!\n"
     ]
    }
   ],
   "source": [
    "# create a new directory\n",
    "import os\n",
    "new_directory = \"package1\"\n",
    "os.mkdir(new_directory)\n",
    "print(f\"Directory '{new_directory}' created!\")"
   ]
  },
  {
   "cell_type": "code",
   "execution_count": 3,
   "id": "90f1749e",
   "metadata": {},
   "outputs": [
    {
     "name": "stdout",
     "output_type": "stream",
     "text": [
      "['fileoperation.ipynb', 'destination.txt', 'exmaple.txt', 'filepath.ipynb', 'package1', 'example.bin', 'example.txt', 'package']\n"
     ]
    }
   ],
   "source": [
    "# Listing files and dirctories\n",
    "items = os.listdir('.')\n",
    "print(items)"
   ]
  },
  {
   "cell_type": "code",
   "execution_count": 5,
   "id": "ba39d70c",
   "metadata": {},
   "outputs": [
    {
     "name": "stdout",
     "output_type": "stream",
     "text": [
      "folder/file.txt\n"
     ]
    }
   ],
   "source": [
    "# Joining Paths\n",
    "\n",
    "dir_name = \"folder\"\n",
    "file_name = \"file.txt\"\n",
    "full_path = os.path.join(dir_name,file_name)\n",
    "print(full_path)"
   ]
  },
  {
   "cell_type": "code",
   "execution_count": 6,
   "id": "a9f7b53f",
   "metadata": {},
   "outputs": [
    {
     "name": "stdout",
     "output_type": "stream",
     "text": [
      "/Users/bhaveshmali/Desktop/NIMS-Python/Files Handling/folder/file.txt\n"
     ]
    }
   ],
   "source": [
    "dir_name = \"folder\"\n",
    "file_name = \"file.txt\"\n",
    "full_path = os.path.join(os.getcwd(),dir_name, file_name)\n",
    "print(full_path)"
   ]
  },
  {
   "cell_type": "code",
   "execution_count": 11,
   "id": "54b2d001",
   "metadata": {},
   "outputs": [
    {
     "name": "stdout",
     "output_type": "stream",
     "text": [
      "The path 'example1.txt' does not exists\n"
     ]
    }
   ],
   "source": [
    "# Path exist or not\n",
    "\n",
    "path = 'example1.txt'\n",
    "\n",
    "if os.path.exists(path):\n",
    "    print(f\"The path '{path}' exists\")\n",
    "else:\n",
    "    print(f\"The path '{path}' does not exists\")"
   ]
  },
  {
   "cell_type": "code",
   "execution_count": 8,
   "id": "b40eb8a4",
   "metadata": {},
   "outputs": [
    {
     "name": "stdout",
     "output_type": "stream",
     "text": [
      "The path 'example.txt is a file.\n"
     ]
    }
   ],
   "source": [
    "# Checking if a path is file or directory\n",
    "\n",
    "import os\n",
    "\n",
    "path = 'example.txt'\n",
    "if os.path.isfile(path):\n",
    "    print(f\"The path '{path} is a file.\")\n",
    "elif os.path.isdir(path):\n",
    "        print(f\"The path '{path}' is a directory.\")\n",
    "else:\n",
    "    print(f\"The path '{path}' is neither a file nor a directory.\")"
   ]
  },
  {
   "cell_type": "code",
   "execution_count": 9,
   "id": "27486214",
   "metadata": {},
   "outputs": [
    {
     "name": "stdout",
     "output_type": "stream",
     "text": [
      "/Users/bhaveshmali/Desktop/NIMS-Python/Files Handling/example.txt\n"
     ]
    }
   ],
   "source": [
    "# Getting the absolute path\n",
    "\n",
    "relative_path = 'example.txt'\n",
    "absolute_path = os.path.abspath(relative_path)\n",
    "print(absolute_path)"
   ]
  },
  {
   "cell_type": "code",
   "execution_count": null,
   "id": "229dadd7",
   "metadata": {},
   "outputs": [],
   "source": []
  }
 ],
 "metadata": {
  "kernelspec": {
   "display_name": "base",
   "language": "python",
   "name": "python3"
  },
  "language_info": {
   "codemirror_mode": {
    "name": "ipython",
    "version": 3
   },
   "file_extension": ".py",
   "mimetype": "text/x-python",
   "name": "python",
   "nbconvert_exporter": "python",
   "pygments_lexer": "ipython3",
   "version": "3.12.4"
  }
 },
 "nbformat": 4,
 "nbformat_minor": 5
}
