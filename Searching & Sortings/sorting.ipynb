{
 "cells": [
  {
   "cell_type": "code",
   "execution_count": null,
   "id": "402fa423",
   "metadata": {},
   "outputs": [
    {
     "name": "stdout",
     "output_type": "stream",
     "text": [
      "Sorted Elements:  [11, 22, 25, 34, 90, 120]\n"
     ]
    }
   ],
   "source": [
    "# 1. Bubble sort\n",
    "# = [120,25,11,34,90,22]\n",
    "\n",
    "def bubble_sort(arr):\n",
    "    n = len(arr)\n",
    "    \n",
    "    # for passes in range(3):\n",
    "    for passes in range(0,n):\n",
    "        for j in range(0,n-1-passes):\n",
    "            if(arr[j] > arr[j+1]):\n",
    "                arr[j], arr[j+1] = arr[j+1], arr[j]\n",
    "    \n",
    "    return arr\n",
    "\n",
    "unsorted_list = [120,25,11,34,90,22]\n",
    "sorted_list = bubble_sort(unsorted_list)\n",
    "print(\"Sorted Elements: \", sorted_list)"
   ]
  },
  {
   "cell_type": "code",
   "execution_count": 2,
   "id": "4420192d",
   "metadata": {},
   "outputs": [
    {
     "name": "stdout",
     "output_type": "stream",
     "text": [
      "Sorted Elements:  [11, 12, 22, 25, 34, 90]\n"
     ]
    }
   ],
   "source": [
    "# 2. Selection Sort\n",
    "\n",
    "def selection_sort(arr):\n",
    "    n = len(arr)\n",
    "\n",
    "    min_index = 0\n",
    "\n",
    "    for j in range(1,n):\n",
    "        if(arr[j] < arr[mid_index]):\n",
    "            min_index = j\n",
    "    arr[0],arr[min_index] = arr[min_index], arr[0]\n",
    "\n",
    "    return arr\n",
    "\n",
    "\n",
    "\n",
    "unsorted_list = [12,25,11,34,90,22]\n",
    "sorted_list = bubble_sort(unsorted_list)\n",
    "print(\"Sorted Elements: \", sorted_list)"
   ]
  },
  {
   "cell_type": "code",
   "execution_count": null,
   "id": "bf61ce5d",
   "metadata": {},
   "outputs": [],
   "source": []
  }
 ],
 "metadata": {
  "kernelspec": {
   "display_name": "base",
   "language": "python",
   "name": "python3"
  },
  "language_info": {
   "codemirror_mode": {
    "name": "ipython",
    "version": 3
   },
   "file_extension": ".py",
   "mimetype": "text/x-python",
   "name": "python",
   "nbconvert_exporter": "python",
   "pygments_lexer": "ipython3",
   "version": "3.12.4"
  }
 },
 "nbformat": 4,
 "nbformat_minor": 5
}
